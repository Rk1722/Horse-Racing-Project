{
 "cells": [
  {
   "cell_type": "code",
   "execution_count": 24,
   "id": "ad825912-e0fe-4e83-939e-1f353a01f8d1",
   "metadata": {},
   "outputs": [],
   "source": [
    "import numpy as np\n",
    "import pandas as pd\n",
    "from catboost import CatBoostClassifier, Pool\n"
   ]
  },
  {
   "cell_type": "code",
   "execution_count": 9,
   "id": "8d8e772b-123d-4e09-92a0-b7cb006bda7f",
   "metadata": {},
   "outputs": [],
   "source": [
    "df = pd.read_parquet(\"/Users/riyaazkhan/Documents/Imperial_Maths/Algorithmic_Trading_Club/Projects/Horse-Racing-Project/Data/Processed/XGBoost_Dataset.v2_trimmed.parquet\")"
   ]
  },
  {
   "cell_type": "code",
   "execution_count": 10,
   "id": "5c5b5979-8454-4ec1-ae3d-26dcf6be4410",
   "metadata": {},
   "outputs": [],
   "source": [
    "useful_features = ['year','date','father','mother','gfather','horseName','jockeyName','trainerName','res_win','betting_prob_win','OR_Mean_Last3_Z_Race_Rank', 'rpr_Last_Race_Rank', 'racers_per_race', 'rpr_Last_Z_Race_Rank', 'rpr_Mean_Last3_Z_Race_Rank', 'OR_Mean_Last3_Race_Rank', 'course_clean', 'OR_best_last_5', 'trainer_win_encoded', 'TR_Mean_Last3_Z_Race_Rank', 'prize', 'rpr_last_mean_in_race', 'trainer_jumptype_win_Rate', 'jockey_jumptype_win_Rate', 'rpr_best_last_5', 'jockey_win_encoded', 'TR_best_last_5', 'rpr_Mean_Last3_Race_Rank', 'diff_OR_RPR_last_3', 'OR_Mean_Last3_Race_std', 'rpr_Mean_Last3_Race_std', 'prev_max_rpr', 'TR_Mean_Last3_Race_Rank', 'TR_Last_Race_Rank', 'weight_rank', 'diff_OR_RPR_last', 'prev_rpr_diff_from_top', 'rpr_Last_Race_std', 'age_rel_min', 'horse_jumptype_win_Rate_delta', 'trainer_class_winrate', 'weight_difference_to_top', 'rpr_last', 'trainer_going_winrate', 'original_index', 'previous_weight', 'days_since_last_race', 'OR_mean_last_3_median_in_race', 'trainer_course_win_Rate', 'horse_win_encoded', 'jockey_going_winrate', 'jockey_course_win_Rate', 'jockey_distanceband_winrate', 'TR_Mean_Last3_Race_std', 'rpr_Last_Race_iqr', 'rclass_change_numeric', 'saddle_rank_norm', 'horse_jumptype_win_Rate', 'distance', 'rpr_last_median_in_race', 'rpr_mean_last_3_median_in_race', 'days_since_last', 'OR_Last_Z_Race_Rank', 'prev_OR_diff_from_top', 'OR_mean_last_3_mean_in_race', 'father_going_winrate', 'jockey_distanceband_racecount', 'headGear', 'father_distanceband_winrate', 'weight_difference_to_median', 'headgear_count', 'countryCode', 'trainer_course_racecount', 'father_coursesurface_winrate', 'horse_coursesurface_win_Rate_delta', 'weight_differnce_last_race', 'horse_distanceband_win_Rate_delta', 'gfather_jumptype_winrate', 'TR_Last_Race_std', 'horse_going_winrate', 'rclass_numeric', 'rpr_mean_last_3_mean_in_race', 'OR_last', 'rpr_mean_last_3', 'saddle_rank', 'horse_bandbin_racecount', 'OR_Last_Race_Rank', 'horse_distanceband_racecount', 'father_jumptype_winrate', 'trainer_jumptype_racecount', 'mother_jumptype_winrate', 'horse_jockey_win_Rate_delta', 'weight', 'TR_mean_last_3_median_in_race', 'OR_mean_last_3', 'horse_jockey_win_Rate', 'horse_course_winrate', 'TR_Last_Z_Race_Rank', 'father_distanceband_racecount', 'prev_max_TR', 'TR_last_mean_in_race', 'OR_mean_last_20', 'horse_jumptype_racecount', 'trainer_saddlerankbin_winrate', 'jockey_jumptype_racecount', 'band_upper', 'horse_bandbin_win_Rate_delta', 'horse_course_winrate_delta', 'mother_course_winrate', 'trainer_saddlerankbin_racecount', 'father_class_winrate', 'horse_coursesurface_win_Rate', 'father_band_racecount', 'race_min_age', 'horse_coursesurface_racecount', 'horse_bandbin_win_Rate', 'jockey_distanceband_win_Rate_delta', 'TR_Last_Race_iqr', 'horse_distanceband_win_Rate', 'gfather_jumptype_racecount', 'father_course_winrate', 'horse_going_winrate_delta', 'OR_last_median_in_race', 'race_month', 'gfather_course_racecount', 'TR_mean_last_3_mean_in_race', 'prev_max_OR', 'mother_jumptype_racecount', 'trainer_class_racecount', 'horse_class_racecount', 'trainer_going_winrate_delta', 'jockey_going_racecount', 'jockey_course_win_Rate_delta', 'OR_Last_Race_std', 'TR_last_median_in_race', 'rpr_mean_last_20', 'best_dist_band_hist', 'father_coursesurface_racecount', 'gfather_course_winrate']\n"
   ]
  },
  {
   "cell_type": "code",
   "execution_count": 31,
   "id": "c2fe86af-d1e5-452c-a806-cc53082299a4",
   "metadata": {},
   "outputs": [],
   "source": [
    "cat_cols = ['horseName','jockeyName','trainerName','course_clean','father',\n",
    "            'mother','gfather',\n",
    "           'countryCode','headGear','prev_headgear','course_surface','track_layout',\n",
    "            'race_jump_type','best_dist_band_hist']\n"
   ]
  },
  {
   "cell_type": "code",
   "execution_count": 11,
   "id": "2205ec2b-f474-4074-bb57-15ead913395d",
   "metadata": {},
   "outputs": [],
   "source": [
    "def keep_cols_strict(df, cols_to_keep, *, copy=True):\n",
    "    missing = [c for c in cols_to_keep if c not in df.columns]\n",
    "    if missing:\n",
    "        raise KeyError(f\"Missing columns: {missing}\")\n",
    "    return df.loc[:, cols_to_keep].copy() if copy else df.loc[:, cols_to_keep]\n"
   ]
  },
  {
   "cell_type": "code",
   "execution_count": 12,
   "id": "916926b6-3cab-4647-a54d-f5ab9eb409f3",
   "metadata": {},
   "outputs": [],
   "source": [
    "df = keep_cols_strict(df, useful_features)"
   ]
  },
  {
   "cell_type": "code",
   "execution_count": 13,
   "id": "6bad73b9-baa2-422a-a274-d70f8b2e54ae",
   "metadata": {},
   "outputs": [],
   "source": [
    "tr_data = df[df['year'] <= 2014]\n",
    "val_data = df[(df['year'] < 2018) & (df['year'] > 2014)]\n",
    "bkt_data = df[df['year'] >= 2018]"
   ]
  },
  {
   "cell_type": "code",
   "execution_count": 14,
   "id": "0d665af8-1de6-4d40-99e1-705cca819201",
   "metadata": {},
   "outputs": [],
   "source": [
    "tr_data = tr_data.copy().sort_values('date')\n",
    "val_data = val_data.copy().sort_values('date')\n",
    "bkt_data = bkt_data.copy().sort_values('date')\n",
    "\n",
    "tr_data = tr_data.drop(columns='date')\n",
    "val_data = val_data.drop(columns='date')\n",
    "bkt_data = bkt_data.drop(columns='date')"
   ]
  },
  {
   "cell_type": "code",
   "execution_count": 15,
   "id": "f8be1e2c-4b9a-4b54-9891-3865d8ddf951",
   "metadata": {},
   "outputs": [],
   "source": [
    "tr_data_y = tr_data['res_win']\n",
    "tr_data_p = tr_data['betting_prob_win']\n",
    "tr_data_x = tr_data.drop(columns=['res_win','betting_prob_win'])\n",
    "\n",
    "val_data_y = val_data['res_win']\n",
    "val_data_p = val_data['betting_prob_win']\n",
    "val_data_x = val_data.drop(columns=['res_win','betting_prob_win'])\n",
    "\n",
    "bkt_data_y = bkt_data['res_win']\n",
    "bkt_data_p = bkt_data['betting_prob_win']\n",
    "bkt_data_x = bkt_data.drop(columns=['res_win','betting_prob_win'])"
   ]
  },
  {
   "cell_type": "code",
   "execution_count": 32,
   "id": "814730a0-33ef-44fe-95c6-0ef867ea2f59",
   "metadata": {},
   "outputs": [],
   "source": [
    "for c in cat_cols:\n",
    "    if c in tr_data_x.columns:\n",
    "        tr_data_x.loc[:, c]  = tr_data_x[c].astype('string').str.strip().fillna('__MISSING__')\n",
    "        val_data_x.loc[:, c] = val_data_x[c].astype('string').str.strip().fillna('__MISSING__')\n",
    "        \n",
    "cat_idx = [tr_data_x.columns.get_loc(c) for c in cat_cols if c in tr_data_x.columns]"
   ]
  },
  {
   "cell_type": "code",
   "execution_count": 33,
   "id": "6fa2d3bc-4afd-47bc-a433-6568886bc92d",
   "metadata": {},
   "outputs": [],
   "source": [
    "pool_tr = Pool(tr_data_x, tr_data_y, cat_features=cat_idx)\n",
    "pool_va = Pool(val_data_x, val_data_y, cat_features=cat_idx)"
   ]
  },
  {
   "cell_type": "code",
   "execution_count": 37,
   "id": "397d51ad-a0af-4973-bfd6-044286c38857",
   "metadata": {},
   "outputs": [
    {
     "data": {
      "text/plain": [
       "0"
      ]
     },
     "execution_count": 37,
     "metadata": {},
     "output_type": "execute_result"
    }
   ],
   "source": [
    "from catboost.utils import get_gpu_device_count\n",
    "get_gpu_device_count()"
   ]
  },
  {
   "cell_type": "code",
   "execution_count": 38,
   "id": "fe49c940-dcbb-4a3a-8f12-a9d43b15f6fe",
   "metadata": {},
   "outputs": [
    {
     "name": "stdout",
     "output_type": "stream",
     "text": [
      "0:\tlearn: 0.5963593\ttest: 0.6031795\tbest: 0.6031795 (0)\ttotal: 5.64s\tremaining: 1h 52m 41s\n",
      "100:\tlearn: 0.2473189\ttest: 0.2837420\tbest: 0.2837420 (100)\ttotal: 10m 25s\tremaining: 1h 53m 28s\n",
      "200:\tlearn: 0.2142529\ttest: 0.2787580\tbest: 0.2787580 (200)\ttotal: 23m 25s\tremaining: 1h 56m 23s\n",
      "300:\tlearn: 0.1939094\ttest: 0.2770990\tbest: 0.2770520 (298)\ttotal: 36m 34s\tremaining: 1h 49m 14s\n",
      "400:\tlearn: 0.1841374\ttest: 0.2757947\tbest: 0.2755650 (397)\ttotal: 50m 13s\tremaining: 1h 40m 4s\n",
      "500:\tlearn: 0.1774641\ttest: 0.2750382\tbest: 0.2746108 (472)\ttotal: 1h 1m 18s\tremaining: 1h 25m 32s\n"
     ]
    },
    {
     "ename": "KeyboardInterrupt",
     "evalue": "",
     "output_type": "error",
     "traceback": [
      "\u001b[0;31m---------------------------------------------------------------------------\u001b[0m",
      "\u001b[0;31mKeyboardInterrupt\u001b[0m                         Traceback (most recent call last)",
      "Cell \u001b[0;32mIn[38], line 27\u001b[0m\n\u001b[1;32m      1\u001b[0m cb \u001b[38;5;241m=\u001b[39m CatBoostClassifier(\n\u001b[1;32m      2\u001b[0m     loss_function\u001b[38;5;241m=\u001b[39m\u001b[38;5;124m'\u001b[39m\u001b[38;5;124mLogloss\u001b[39m\u001b[38;5;124m'\u001b[39m,\n\u001b[1;32m      3\u001b[0m     eval_metric\u001b[38;5;241m=\u001b[39m\u001b[38;5;124m'\u001b[39m\u001b[38;5;124mLogloss\u001b[39m\u001b[38;5;124m'\u001b[39m,\n\u001b[0;32m   (...)\u001b[0m\n\u001b[1;32m     24\u001b[0m     task_type\u001b[38;5;241m=\u001b[39m\u001b[38;5;124m'\u001b[39m\u001b[38;5;124mCPU\u001b[39m\u001b[38;5;124m'\u001b[39m\n\u001b[1;32m     25\u001b[0m )\n\u001b[0;32m---> 27\u001b[0m \u001b[43mcb\u001b[49m\u001b[38;5;241;43m.\u001b[39;49m\u001b[43mfit\u001b[49m\u001b[43m(\u001b[49m\u001b[43mpool_tr\u001b[49m\u001b[43m,\u001b[49m\u001b[43m \u001b[49m\u001b[43meval_set\u001b[49m\u001b[38;5;241;43m=\u001b[39;49m\u001b[43mpool_va\u001b[49m\u001b[43m)\u001b[49m\n",
      "File \u001b[0;32m/Library/Frameworks/Python.framework/Versions/3.8/lib/python3.8/site-packages/catboost/core.py:5245\u001b[0m, in \u001b[0;36mCatBoostClassifier.fit\u001b[0;34m(self, X, y, cat_features, text_features, embedding_features, graph, sample_weight, baseline, use_best_model, eval_set, verbose, logging_level, plot, plot_file, column_description, verbose_eval, metric_period, silent, early_stopping_rounds, save_snapshot, snapshot_file, snapshot_interval, init_model, callbacks, log_cout, log_cerr)\u001b[0m\n\u001b[1;32m   5242\u001b[0m \u001b[38;5;28;01mif\u001b[39;00m \u001b[38;5;124m'\u001b[39m\u001b[38;5;124mloss_function\u001b[39m\u001b[38;5;124m'\u001b[39m \u001b[38;5;129;01min\u001b[39;00m params:\n\u001b[1;32m   5243\u001b[0m     CatBoostClassifier\u001b[38;5;241m.\u001b[39m_check_is_compatible_loss(params[\u001b[38;5;124m'\u001b[39m\u001b[38;5;124mloss_function\u001b[39m\u001b[38;5;124m'\u001b[39m])\n\u001b[0;32m-> 5245\u001b[0m \u001b[38;5;28;43mself\u001b[39;49m\u001b[38;5;241;43m.\u001b[39;49m\u001b[43m_fit\u001b[49m\u001b[43m(\u001b[49m\u001b[43mX\u001b[49m\u001b[43m,\u001b[49m\u001b[43m \u001b[49m\u001b[43my\u001b[49m\u001b[43m,\u001b[49m\u001b[43m \u001b[49m\u001b[43mcat_features\u001b[49m\u001b[43m,\u001b[49m\u001b[43m \u001b[49m\u001b[43mtext_features\u001b[49m\u001b[43m,\u001b[49m\u001b[43m \u001b[49m\u001b[43membedding_features\u001b[49m\u001b[43m,\u001b[49m\u001b[43m \u001b[49m\u001b[38;5;28;43;01mNone\u001b[39;49;00m\u001b[43m,\u001b[49m\u001b[43m \u001b[49m\u001b[43mgraph\u001b[49m\u001b[43m,\u001b[49m\u001b[43m \u001b[49m\u001b[43msample_weight\u001b[49m\u001b[43m,\u001b[49m\u001b[43m \u001b[49m\u001b[38;5;28;43;01mNone\u001b[39;49;00m\u001b[43m,\u001b[49m\u001b[43m \u001b[49m\u001b[38;5;28;43;01mNone\u001b[39;49;00m\u001b[43m,\u001b[49m\u001b[43m \u001b[49m\u001b[38;5;28;43;01mNone\u001b[39;49;00m\u001b[43m,\u001b[49m\u001b[43m \u001b[49m\u001b[38;5;28;43;01mNone\u001b[39;49;00m\u001b[43m,\u001b[49m\u001b[43m \u001b[49m\u001b[43mbaseline\u001b[49m\u001b[43m,\u001b[49m\u001b[43m \u001b[49m\u001b[43muse_best_model\u001b[49m\u001b[43m,\u001b[49m\n\u001b[1;32m   5246\u001b[0m \u001b[43m          \u001b[49m\u001b[43meval_set\u001b[49m\u001b[43m,\u001b[49m\u001b[43m \u001b[49m\u001b[43mverbose\u001b[49m\u001b[43m,\u001b[49m\u001b[43m \u001b[49m\u001b[43mlogging_level\u001b[49m\u001b[43m,\u001b[49m\u001b[43m \u001b[49m\u001b[43mplot\u001b[49m\u001b[43m,\u001b[49m\u001b[43m \u001b[49m\u001b[43mplot_file\u001b[49m\u001b[43m,\u001b[49m\u001b[43m \u001b[49m\u001b[43mcolumn_description\u001b[49m\u001b[43m,\u001b[49m\u001b[43m \u001b[49m\u001b[43mverbose_eval\u001b[49m\u001b[43m,\u001b[49m\u001b[43m \u001b[49m\u001b[43mmetric_period\u001b[49m\u001b[43m,\u001b[49m\n\u001b[1;32m   5247\u001b[0m \u001b[43m          \u001b[49m\u001b[43msilent\u001b[49m\u001b[43m,\u001b[49m\u001b[43m \u001b[49m\u001b[43mearly_stopping_rounds\u001b[49m\u001b[43m,\u001b[49m\u001b[43m \u001b[49m\u001b[43msave_snapshot\u001b[49m\u001b[43m,\u001b[49m\u001b[43m \u001b[49m\u001b[43msnapshot_file\u001b[49m\u001b[43m,\u001b[49m\u001b[43m \u001b[49m\u001b[43msnapshot_interval\u001b[49m\u001b[43m,\u001b[49m\u001b[43m \u001b[49m\u001b[43minit_model\u001b[49m\u001b[43m,\u001b[49m\u001b[43m \u001b[49m\u001b[43mcallbacks\u001b[49m\u001b[43m,\u001b[49m\u001b[43m \u001b[49m\u001b[43mlog_cout\u001b[49m\u001b[43m,\u001b[49m\u001b[43m \u001b[49m\u001b[43mlog_cerr\u001b[49m\u001b[43m)\u001b[49m\n\u001b[1;32m   5248\u001b[0m \u001b[38;5;28;01mreturn\u001b[39;00m \u001b[38;5;28mself\u001b[39m\n",
      "File \u001b[0;32m/Library/Frameworks/Python.framework/Versions/3.8/lib/python3.8/site-packages/catboost/core.py:2410\u001b[0m, in \u001b[0;36mCatBoost._fit\u001b[0;34m(self, X, y, cat_features, text_features, embedding_features, pairs, graph, sample_weight, group_id, group_weight, subgroup_id, pairs_weight, baseline, use_best_model, eval_set, verbose, logging_level, plot, plot_file, column_description, verbose_eval, metric_period, silent, early_stopping_rounds, save_snapshot, snapshot_file, snapshot_interval, init_model, callbacks, log_cout, log_cerr)\u001b[0m\n\u001b[1;32m   2407\u001b[0m allow_clear_pool \u001b[38;5;241m=\u001b[39m train_params[\u001b[38;5;124m\"\u001b[39m\u001b[38;5;124mallow_clear_pool\u001b[39m\u001b[38;5;124m\"\u001b[39m]\n\u001b[1;32m   2409\u001b[0m \u001b[38;5;28;01mwith\u001b[39;00m plot_wrapper(plot, plot_file, \u001b[38;5;124m'\u001b[39m\u001b[38;5;124mTraining plots\u001b[39m\u001b[38;5;124m'\u001b[39m, [_get_train_dir(\u001b[38;5;28mself\u001b[39m\u001b[38;5;241m.\u001b[39mget_params())]):\n\u001b[0;32m-> 2410\u001b[0m     \u001b[38;5;28;43mself\u001b[39;49m\u001b[38;5;241;43m.\u001b[39;49m\u001b[43m_train\u001b[49m\u001b[43m(\u001b[49m\n\u001b[1;32m   2411\u001b[0m \u001b[43m        \u001b[49m\u001b[43mtrain_pool\u001b[49m\u001b[43m,\u001b[49m\n\u001b[1;32m   2412\u001b[0m \u001b[43m        \u001b[49m\u001b[43mtrain_params\u001b[49m\u001b[43m[\u001b[49m\u001b[38;5;124;43m\"\u001b[39;49m\u001b[38;5;124;43meval_sets\u001b[39;49m\u001b[38;5;124;43m\"\u001b[39;49m\u001b[43m]\u001b[49m\u001b[43m,\u001b[49m\n\u001b[1;32m   2413\u001b[0m \u001b[43m        \u001b[49m\u001b[43mparams\u001b[49m\u001b[43m,\u001b[49m\n\u001b[1;32m   2414\u001b[0m \u001b[43m        \u001b[49m\u001b[43mallow_clear_pool\u001b[49m\u001b[43m,\u001b[49m\n\u001b[1;32m   2415\u001b[0m \u001b[43m        \u001b[49m\u001b[43mtrain_params\u001b[49m\u001b[43m[\u001b[49m\u001b[38;5;124;43m\"\u001b[39;49m\u001b[38;5;124;43minit_model\u001b[39;49m\u001b[38;5;124;43m\"\u001b[39;49m\u001b[43m]\u001b[49m\n\u001b[1;32m   2416\u001b[0m \u001b[43m    \u001b[49m\u001b[43m)\u001b[49m\n\u001b[1;32m   2418\u001b[0m \u001b[38;5;66;03m# Have property feature_importance possibly set\u001b[39;00m\n\u001b[1;32m   2419\u001b[0m loss \u001b[38;5;241m=\u001b[39m \u001b[38;5;28mself\u001b[39m\u001b[38;5;241m.\u001b[39m_object\u001b[38;5;241m.\u001b[39m_get_loss_function_name()\n",
      "File \u001b[0;32m/Library/Frameworks/Python.framework/Versions/3.8/lib/python3.8/site-packages/catboost/core.py:1790\u001b[0m, in \u001b[0;36m_CatBoostBase._train\u001b[0;34m(self, train_pool, test_pool, params, allow_clear_pool, init_model)\u001b[0m\n\u001b[1;32m   1789\u001b[0m \u001b[38;5;28;01mdef\u001b[39;00m\u001b[38;5;250m \u001b[39m\u001b[38;5;21m_train\u001b[39m(\u001b[38;5;28mself\u001b[39m, train_pool, test_pool, params, allow_clear_pool, init_model):\n\u001b[0;32m-> 1790\u001b[0m     \u001b[38;5;28;43mself\u001b[39;49m\u001b[38;5;241;43m.\u001b[39;49m\u001b[43m_object\u001b[49m\u001b[38;5;241;43m.\u001b[39;49m\u001b[43m_train\u001b[49m\u001b[43m(\u001b[49m\u001b[43mtrain_pool\u001b[49m\u001b[43m,\u001b[49m\u001b[43m \u001b[49m\u001b[43mtest_pool\u001b[49m\u001b[43m,\u001b[49m\u001b[43m \u001b[49m\u001b[43mparams\u001b[49m\u001b[43m,\u001b[49m\u001b[43m \u001b[49m\u001b[43mallow_clear_pool\u001b[49m\u001b[43m,\u001b[49m\u001b[43m \u001b[49m\u001b[43minit_model\u001b[49m\u001b[38;5;241;43m.\u001b[39;49m\u001b[43m_object\u001b[49m\u001b[43m \u001b[49m\u001b[38;5;28;43;01mif\u001b[39;49;00m\u001b[43m \u001b[49m\u001b[43minit_model\u001b[49m\u001b[43m \u001b[49m\u001b[38;5;28;43;01melse\u001b[39;49;00m\u001b[43m \u001b[49m\u001b[38;5;28;43;01mNone\u001b[39;49;00m\u001b[43m)\u001b[49m\n\u001b[1;32m   1791\u001b[0m     \u001b[38;5;28mself\u001b[39m\u001b[38;5;241m.\u001b[39m_set_trained_model_attributes()\n",
      "File \u001b[0;32m_catboost.pyx:5023\u001b[0m, in \u001b[0;36m_catboost._CatBoost._train\u001b[0;34m()\u001b[0m\n",
      "File \u001b[0;32m_catboost.pyx:5072\u001b[0m, in \u001b[0;36m_catboost._CatBoost._train\u001b[0;34m()\u001b[0m\n",
      "\u001b[0;31mKeyboardInterrupt\u001b[0m: "
     ]
    }
   ],
   "source": [
    "cb = CatBoostClassifier(\n",
    "    loss_function='Logloss',\n",
    "    eval_metric='Logloss',\n",
    "    custom_metric=['AUC','BrierScore'],\n",
    "\n",
    "    iterations=1200,          # much fewer rounds\n",
    "    learning_rate=0.10,       # faster learning (compensates for fewer iterations)\n",
    "    depth=6,                  # shallower trees = faster\n",
    "    l2_leaf_reg=5,            # mild regularization\n",
    "\n",
    "    bootstrap_type='Bernoulli',\n",
    "    subsample=0.8,            # row subsampling\n",
    "    rsm=0.7,                  # column subsampling (feature subsample)\n",
    "\n",
    "    border_count=32,          # fewer splits for speed on CPU\n",
    "    random_strength=1.0,\n",
    "\n",
    "    od_type='Iter',\n",
    "    od_wait=100,              # earlier early-stop\n",
    "    use_best_model=True,\n",
    "\n",
    "    thread_count=-1,\n",
    "    verbose=100,\n",
    "    task_type='CPU'\n",
    ")\n",
    "\n",
    "cb.fit(pool_tr, eval_set=pool_va)\n"
   ]
  },
  {
   "cell_type": "code",
   "execution_count": null,
   "id": "017bafcb-e09e-4ad6-8894-cd6c6a1d4b92",
   "metadata": {},
   "outputs": [],
   "source": [
    "cb.save_model(\"catboost_model.cbm\")"
   ]
  }
 ],
 "metadata": {
  "kernelspec": {
   "display_name": "Python 3 (ipykernel)",
   "language": "python",
   "name": "python3"
  },
  "language_info": {
   "codemirror_mode": {
    "name": "ipython",
    "version": 3
   },
   "file_extension": ".py",
   "mimetype": "text/x-python",
   "name": "python",
   "nbconvert_exporter": "python",
   "pygments_lexer": "ipython3",
   "version": "3.8.5"
  }
 },
 "nbformat": 4,
 "nbformat_minor": 5
}
